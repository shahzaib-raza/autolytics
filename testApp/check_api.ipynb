{
 "cells": [
  {
   "cell_type": "code",
   "execution_count": 58,
   "metadata": {},
   "outputs": [],
   "source": [
    "import requests\n",
    "from bs4 import BeautifulSoup as Bs\n",
    "import json\n",
    "import re"
   ]
  },
  {
   "cell_type": "code",
   "execution_count": 48,
   "metadata": {},
   "outputs": [],
   "source": [
    "response = requests.get(\"https://www.pakwheels.com/used-cars/search/-/ct_karachi/mk_suzuki/md_alto/?page=1\")"
   ]
  },
  {
   "cell_type": "code",
   "execution_count": 49,
   "metadata": {},
   "outputs": [],
   "source": [
    "b = Bs(response.text, 'html.parser')\n",
    "add_ids = re.findall('main_ad_[0-9]+', response.text)\n",
    "lis = [b.find('li', id=i) for i in add_ids]\n",
    "objs = [li.find('script').text.strip().replace(\"\\n\", \"\").replace(\"  \", \"\") for li in lis]\n",
    "js = [json.loads(obj) for obj in objs]"
   ]
  },
  {
   "cell_type": "code",
   "execution_count": 51,
   "metadata": {},
   "outputs": [
    {
     "data": {
      "text/plain": [
       "34"
      ]
     },
     "execution_count": 51,
     "metadata": {},
     "output_type": "execute_result"
    }
   ],
   "source": [
    "len([[j['modelDate'], j['offers']['price']] for j in js])"
   ]
  },
  {
   "cell_type": "code",
   "execution_count": 59,
   "metadata": {},
   "outputs": [],
   "source": [
    "uris = [\n",
    "    'https://www.pakwheels.com/used-cars/search/-/ct_karachi/mk_suzuki/md_alto/?page=1',\n",
    "    'https://www.pakwheels.com/used-cars/search/-/ct_karachi/mk_suzuki/md_alto/?page=2',\n",
    "    'https://www.pakwheels.com/used-cars/search/-/ct_karachi/mk_suzuki/md_alto/?page=3',\n",
    "    'https://www.pakwheels.com/used-cars/search/-/ct_karachi/mk_suzuki/md_alto/?page=4'\n",
    "]"
   ]
  },
  {
   "cell_type": "code",
   "execution_count": 61,
   "metadata": {},
   "outputs": [],
   "source": [
    "def get_pages_data(u):\n",
    "    d = []\n",
    "    for url in u:\n",
    "        \n",
    "        response = requests.get(url)\n",
    "        b = Bs(response.text, 'html.parser')\n",
    "        add_ids = re.findall('main_ad_[0-9]+', response.text)\n",
    "        lis = [b.find('li', id=i) for i in add_ids]\n",
    "        objs = []\n",
    "        for id_ in lis:\n",
    "            try:\n",
    "                objs.append(id_.find('script').text.strip().replace(\"\\n\", \"\").replace(\"  \", \"\"))\n",
    "            except:\n",
    "                pass\n",
    "        js = [json.loads(obj) for obj in objs]\n",
    "        for jp in js:\n",
    "            d.append([jp['modelDate'], jp['offers']['price']])\n",
    "    return d"
   ]
  },
  {
   "cell_type": "code",
   "execution_count": 62,
   "metadata": {},
   "outputs": [
    {
     "data": {
      "text/plain": [
       "[[2020, 2500000],\n",
       " [2020, 2480000],\n",
       " [2022, 2740000],\n",
       " [2021, 2275000],\n",
       " [2018, 3000000],\n",
       " [2021, 2620000],\n",
       " [2022, 3200000],\n",
       " [2022, 2390000],\n",
       " [2011, 1750000],\n",
       " [2015, 2250000],\n",
       " [2021, 2650000],\n",
       " [2022, 2775000],\n",
       " [2007, 720000],\n",
       " [2023, 3600000],\n",
       " [2022, 2430000],\n",
       " [2019, 2270000],\n",
       " [2007, 810000],\n",
       " [2008, 660000],\n",
       " [2010, 930000],\n",
       " [2020, 2060000],\n",
       " [2007, 680000],\n",
       " [2015, 2345000],\n",
       " [2007, 650000],\n",
       " [2021, 2250000],\n",
       " [2022, 2290000],\n",
       " [2022, 2850000],\n",
       " [2009, 710000],\n",
       " [2019, 2090000],\n",
       " [2023, 2670000],\n",
       " [2006, 775000],\n",
       " [2019, 2065000],\n",
       " [2007, 640000],\n",
       " [2020, 2500000],\n",
       " [2013, 2150000],\n",
       " [2020, 3350000],\n",
       " [2012, 1950000],\n",
       " [2009, 875000],\n",
       " [2019, 2400000],\n",
       " [2022, 2775000],\n",
       " [2021, 2630000],\n",
       " [2020, 3450000],\n",
       " [2022, 3150000],\n",
       " [2010, 1950000],\n",
       " [2012, 1850000],\n",
       " [2019, 3300000],\n",
       " [2019, 2400000],\n",
       " [2019, 2095000],\n",
       " [2010, 815000],\n",
       " [2021, 2275000],\n",
       " [2021, 2575000],\n",
       " [2021, 2070000],\n",
       " [2007, 800000],\n",
       " [2011, 920000],\n",
       " [2006, 620000],\n",
       " [2010, 940000],\n",
       " [2010, 840000],\n",
       " [2018, 3000000],\n",
       " [2019, 2400000],\n",
       " [2021, 2620000],\n",
       " [2006, 965000],\n",
       " [2022, 2575000],\n",
       " [2014, 2000000],\n",
       " [2022, 3200000],\n",
       " [2022, 2390000],\n",
       " [2007, 675000],\n",
       " [2021, 3725000],\n",
       " [2011, 1750000],\n",
       " [2008, 1490000],\n",
       " [2019, 1990000],\n",
       " [2020, 2180000],\n",
       " [2014, 2000000],\n",
       " [2008, 750000],\n",
       " [2021, 2050000],\n",
       " [2005, 650000],\n",
       " [2008, 950000],\n",
       " [2019, 2100000],\n",
       " [2022, 2850000],\n",
       " [2022, 2820000],\n",
       " [2019, 2875000],\n",
       " [2019, 2950000],\n",
       " [2021, 2550000],\n",
       " [2004, 1350000],\n",
       " [2022, 2525000],\n",
       " [2004, 600000],\n",
       " [2021, 2265000],\n",
       " [2007, 630000],\n",
       " [2006, 600000],\n",
       " [2004, 600000],\n",
       " [2019, 2200000],\n",
       " [2011, 1000000],\n",
       " [2022, 2900000],\n",
       " [2006, 585000],\n",
       " [2013, 1985000],\n",
       " [2010, 815000],\n",
       " [2009, 800000],\n",
       " [2021, 2270000],\n",
       " [2010, 860000],\n",
       " [2011, 900000],\n",
       " [2021, 2720000],\n",
       " [2022, 2555555],\n",
       " [2007, 590000],\n",
       " [2019, 2350000],\n",
       " [2021, 2200000],\n",
       " [2015, 2250000],\n",
       " [2022, 2700000],\n",
       " [2005, 670000],\n",
       " [2010, 750000],\n",
       " [2022, 2400000],\n",
       " [2022, 2250000],\n",
       " [2020, 3450000],\n",
       " [2022, 2790000],\n",
       " [2020, 3200000],\n",
       " [2022, 2390000],\n",
       " [2020, 2050000],\n",
       " [2003, 1000000],\n",
       " [2021, 3495000],\n",
       " [2021, 3500000],\n",
       " [2020, 3350000],\n",
       " [2022, 2365000],\n",
       " [2023, 2675000],\n",
       " [2006, 780000],\n",
       " [2023, 2850000],\n",
       " [2021, 2650000],\n",
       " [2019, 2300000],\n",
       " [2022, 2775000],\n",
       " [2011, 835000],\n",
       " [2009, 800000],\n",
       " [2020, 2550000],\n",
       " [2004, 630000],\n",
       " [2021, 2200000],\n",
       " [2022, 2495000],\n",
       " [2012, 1045000],\n",
       " [2018, 2750000],\n",
       " [2004, 550000],\n",
       " [2019, 2160000],\n",
       " [2021, 2290000],\n",
       " [2020, 3350000],\n",
       " [2009, 920000],\n",
       " [2007, 670000],\n",
       " [2012, 1950000],\n",
       " [2020, 2205000],\n",
       " [2020, 2475000],\n",
       " [2023, 2720000]]"
      ]
     },
     "execution_count": 62,
     "metadata": {},
     "output_type": "execute_result"
    }
   ],
   "source": [
    "get_pages_data(uris)"
   ]
  },
  {
   "cell_type": "code",
   "execution_count": null,
   "metadata": {},
   "outputs": [],
   "source": []
  }
 ],
 "metadata": {
  "kernelspec": {
   "display_name": "Python 3",
   "language": "python",
   "name": "python3"
  },
  "language_info": {
   "codemirror_mode": {
    "name": "ipython",
    "version": 3
   },
   "file_extension": ".py",
   "mimetype": "text/x-python",
   "name": "python",
   "nbconvert_exporter": "python",
   "pygments_lexer": "ipython3",
   "version": "3.12.0"
  }
 },
 "nbformat": 4,
 "nbformat_minor": 2
}
